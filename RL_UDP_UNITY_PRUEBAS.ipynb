{
  "nbformat": 4,
  "nbformat_minor": 0,
  "metadata": {
    "colab": {
      "provenance": [],
      "authorship_tag": "ABX9TyOQW8FsDgNgz6YiieLldgHR",
      "include_colab_link": true
    },
    "kernelspec": {
      "name": "python3",
      "display_name": "Python 3"
    },
    "language_info": {
      "name": "python"
    }
  },
  "cells": [
    {
      "cell_type": "markdown",
      "metadata": {
        "id": "view-in-github",
        "colab_type": "text"
      },
      "source": [
        "<a href=\"https://colab.research.google.com/github/9105507/Trabajo_Drones_2023_2024/blob/main/RL_UDP_UNITY_PRUEBAS.ipynb\" target=\"_parent\"><img src=\"https://colab.research.google.com/assets/colab-badge.svg\" alt=\"Open In Colab\"/></a>"
      ]
    },
    {
      "cell_type": "markdown",
      "source": [
        "CUANDO UNITYEDITOR ESTÉ INSTALADO COMENZAR A JUGAR CON ESTO."
      ],
      "metadata": {
        "id": "HEmiGV4hSy6A"
      }
    },
    {
      "cell_type": "code",
      "execution_count": null,
      "metadata": {
        "id": "FWQ1vRHMNS37"
      },
      "outputs": [],
      "source": []
    }
  ]
}